{
 "cells": [
  {
   "cell_type": "code",
   "execution_count": 1,
   "metadata": {
    "_cell_guid": "b1076dfc-b9ad-4769-8c92-a6c4dae69d19",
    "_uuid": "8f2839f25d086af736a60e9eeb907d3b93b6e0e5",
    "tags": []
   },
   "outputs": [],
   "source": [
    "from sklearn.ensemble import RandomForestClassifier, GradientBoostingClassifier\n",
    "from sklearn.model_selection import train_test_split, GridSearchCV, StratifiedKFold\n",
    "from sklearn.metrics import f1_score, confusion_matrix, roc_curve, auc\n",
    "from sklearn.impute import SimpleImputer\n",
    "from sklearn.preprocessing import StandardScaler, LabelEncoder\n",
    "from sklearn.pipeline import make_pipeline\n",
    "from sklearn.svm import SVC\n",
    "from sklearn.linear_model import LogisticRegression\n",
    "from sklearn.decomposition import PCA\n",
    "from scipy import stats\n",
    "from tensorflow.keras import models, layers\n",
    "from tensorflow.keras.optimizers import Adam, Adamax, Adadelta\n",
    "from tensorflow.keras.layers import LeakyReLU, PReLU, Dropout\n",
    "from tensorflow.keras.callbacks import EarlyStopping\n",
    "%matplotlib inline\n",
    "\n",
    "import matplotlib.pyplot as plt\n",
    "import pandas as pd\n",
    "import seaborn as sns\n",
    "import numpy as np\n",
    "import missingno as msno"
   ]
  },
  {
   "cell_type": "code",
   "execution_count": 2,
   "metadata": {
    "tags": []
   },
   "outputs": [],
   "source": [
    "raw_data = pd.read_csv('SBAnational.csv', delimiter=',', low_memory=False)"
   ]
  },
  {
   "cell_type": "code",
   "execution_count": 4,
   "metadata": {
    "tags": []
   },
   "outputs": [
    {
     "data": {
      "text/html": [
       "<div>\n",
       "<style scoped>\n",
       "    .dataframe tbody tr th:only-of-type {\n",
       "        vertical-align: middle;\n",
       "    }\n",
       "\n",
       "    .dataframe tbody tr th {\n",
       "        vertical-align: top;\n",
       "    }\n",
       "\n",
       "    .dataframe thead th {\n",
       "        text-align: right;\n",
       "    }\n",
       "</style>\n",
       "<table border=\"1\" class=\"dataframe\">\n",
       "  <thead>\n",
       "    <tr style=\"text-align: right;\">\n",
       "      <th></th>\n",
       "      <th>LoanNr_ChkDgt</th>\n",
       "      <th>Name</th>\n",
       "      <th>City</th>\n",
       "      <th>State</th>\n",
       "      <th>Zip</th>\n",
       "      <th>Bank</th>\n",
       "      <th>BankState</th>\n",
       "      <th>NAICS</th>\n",
       "      <th>ApprovalDate</th>\n",
       "      <th>ApprovalFY</th>\n",
       "      <th>...</th>\n",
       "      <th>RevLineCr</th>\n",
       "      <th>LowDoc</th>\n",
       "      <th>ChgOffDate</th>\n",
       "      <th>DisbursementDate</th>\n",
       "      <th>DisbursementGross</th>\n",
       "      <th>BalanceGross</th>\n",
       "      <th>MIS_Status</th>\n",
       "      <th>ChgOffPrinGr</th>\n",
       "      <th>GrAppv</th>\n",
       "      <th>SBA_Appv</th>\n",
       "    </tr>\n",
       "  </thead>\n",
       "  <tbody>\n",
       "    <tr>\n",
       "      <th>0</th>\n",
       "      <td>1000014003</td>\n",
       "      <td>ABC HOBBYCRAFT</td>\n",
       "      <td>EVANSVILLE</td>\n",
       "      <td>IN</td>\n",
       "      <td>47711</td>\n",
       "      <td>FIFTH THIRD BANK</td>\n",
       "      <td>OH</td>\n",
       "      <td>451120</td>\n",
       "      <td>28-Feb-97</td>\n",
       "      <td>1997</td>\n",
       "      <td>...</td>\n",
       "      <td>N</td>\n",
       "      <td>Y</td>\n",
       "      <td>NaN</td>\n",
       "      <td>28-Feb-99</td>\n",
       "      <td>$60,000.00</td>\n",
       "      <td>$0.00</td>\n",
       "      <td>P I F</td>\n",
       "      <td>$0.00</td>\n",
       "      <td>$60,000.00</td>\n",
       "      <td>$48,000.00</td>\n",
       "    </tr>\n",
       "    <tr>\n",
       "      <th>1</th>\n",
       "      <td>1000024006</td>\n",
       "      <td>LANDMARK BAR &amp; GRILLE (THE)</td>\n",
       "      <td>NEW PARIS</td>\n",
       "      <td>IN</td>\n",
       "      <td>46526</td>\n",
       "      <td>1ST SOURCE BANK</td>\n",
       "      <td>IN</td>\n",
       "      <td>722410</td>\n",
       "      <td>28-Feb-97</td>\n",
       "      <td>1997</td>\n",
       "      <td>...</td>\n",
       "      <td>N</td>\n",
       "      <td>Y</td>\n",
       "      <td>NaN</td>\n",
       "      <td>31-May-97</td>\n",
       "      <td>$40,000.00</td>\n",
       "      <td>$0.00</td>\n",
       "      <td>P I F</td>\n",
       "      <td>$0.00</td>\n",
       "      <td>$40,000.00</td>\n",
       "      <td>$32,000.00</td>\n",
       "    </tr>\n",
       "    <tr>\n",
       "      <th>2</th>\n",
       "      <td>1000034009</td>\n",
       "      <td>WHITLOCK DDS, TODD M.</td>\n",
       "      <td>BLOOMINGTON</td>\n",
       "      <td>IN</td>\n",
       "      <td>47401</td>\n",
       "      <td>GRANT COUNTY STATE BANK</td>\n",
       "      <td>IN</td>\n",
       "      <td>621210</td>\n",
       "      <td>28-Feb-97</td>\n",
       "      <td>1997</td>\n",
       "      <td>...</td>\n",
       "      <td>N</td>\n",
       "      <td>N</td>\n",
       "      <td>NaN</td>\n",
       "      <td>31-Dec-97</td>\n",
       "      <td>$287,000.00</td>\n",
       "      <td>$0.00</td>\n",
       "      <td>P I F</td>\n",
       "      <td>$0.00</td>\n",
       "      <td>$287,000.00</td>\n",
       "      <td>$215,250.00</td>\n",
       "    </tr>\n",
       "    <tr>\n",
       "      <th>3</th>\n",
       "      <td>1000044001</td>\n",
       "      <td>BIG BUCKS PAWN &amp; JEWELRY, LLC</td>\n",
       "      <td>BROKEN ARROW</td>\n",
       "      <td>OK</td>\n",
       "      <td>74012</td>\n",
       "      <td>1ST NATL BK &amp; TR CO OF BROKEN</td>\n",
       "      <td>OK</td>\n",
       "      <td>0</td>\n",
       "      <td>28-Feb-97</td>\n",
       "      <td>1997</td>\n",
       "      <td>...</td>\n",
       "      <td>N</td>\n",
       "      <td>Y</td>\n",
       "      <td>NaN</td>\n",
       "      <td>30-Jun-97</td>\n",
       "      <td>$35,000.00</td>\n",
       "      <td>$0.00</td>\n",
       "      <td>P I F</td>\n",
       "      <td>$0.00</td>\n",
       "      <td>$35,000.00</td>\n",
       "      <td>$28,000.00</td>\n",
       "    </tr>\n",
       "    <tr>\n",
       "      <th>4</th>\n",
       "      <td>1000054004</td>\n",
       "      <td>ANASTASIA CONFECTIONS, INC.</td>\n",
       "      <td>ORLANDO</td>\n",
       "      <td>FL</td>\n",
       "      <td>32801</td>\n",
       "      <td>FLORIDA BUS. DEVEL CORP</td>\n",
       "      <td>FL</td>\n",
       "      <td>0</td>\n",
       "      <td>28-Feb-97</td>\n",
       "      <td>1997</td>\n",
       "      <td>...</td>\n",
       "      <td>N</td>\n",
       "      <td>N</td>\n",
       "      <td>NaN</td>\n",
       "      <td>14-May-97</td>\n",
       "      <td>$229,000.00</td>\n",
       "      <td>$0.00</td>\n",
       "      <td>P I F</td>\n",
       "      <td>$0.00</td>\n",
       "      <td>$229,000.00</td>\n",
       "      <td>$229,000.00</td>\n",
       "    </tr>\n",
       "  </tbody>\n",
       "</table>\n",
       "<p>5 rows × 27 columns</p>\n",
       "</div>"
      ],
      "text/plain": [
       "   LoanNr_ChkDgt                           Name          City State    Zip  \\\n",
       "0     1000014003                 ABC HOBBYCRAFT    EVANSVILLE    IN  47711   \n",
       "1     1000024006    LANDMARK BAR & GRILLE (THE)     NEW PARIS    IN  46526   \n",
       "2     1000034009          WHITLOCK DDS, TODD M.   BLOOMINGTON    IN  47401   \n",
       "3     1000044001  BIG BUCKS PAWN & JEWELRY, LLC  BROKEN ARROW    OK  74012   \n",
       "4     1000054004    ANASTASIA CONFECTIONS, INC.       ORLANDO    FL  32801   \n",
       "\n",
       "                            Bank BankState   NAICS ApprovalDate ApprovalFY  \\\n",
       "0               FIFTH THIRD BANK        OH  451120    28-Feb-97       1997   \n",
       "1                1ST SOURCE BANK        IN  722410    28-Feb-97       1997   \n",
       "2        GRANT COUNTY STATE BANK        IN  621210    28-Feb-97       1997   \n",
       "3  1ST NATL BK & TR CO OF BROKEN        OK       0    28-Feb-97       1997   \n",
       "4        FLORIDA BUS. DEVEL CORP        FL       0    28-Feb-97       1997   \n",
       "\n",
       "   ...  RevLineCr  LowDoc  ChgOffDate  DisbursementDate  DisbursementGross  \\\n",
       "0  ...          N       Y         NaN         28-Feb-99        $60,000.00    \n",
       "1  ...          N       Y         NaN         31-May-97        $40,000.00    \n",
       "2  ...          N       N         NaN         31-Dec-97       $287,000.00    \n",
       "3  ...          N       Y         NaN         30-Jun-97        $35,000.00    \n",
       "4  ...          N       N         NaN         14-May-97       $229,000.00    \n",
       "\n",
       "   BalanceGross  MIS_Status ChgOffPrinGr        GrAppv      SBA_Appv  \n",
       "0        $0.00        P I F       $0.00    $60,000.00    $48,000.00   \n",
       "1        $0.00        P I F       $0.00    $40,000.00    $32,000.00   \n",
       "2        $0.00        P I F       $0.00   $287,000.00   $215,250.00   \n",
       "3        $0.00        P I F       $0.00    $35,000.00    $28,000.00   \n",
       "4        $0.00        P I F       $0.00   $229,000.00   $229,000.00   \n",
       "\n",
       "[5 rows x 27 columns]"
      ]
     },
     "execution_count": 4,
     "metadata": {},
     "output_type": "execute_result"
    }
   ],
   "source": [
    "raw_data.head()"
   ]
  },
  {
   "cell_type": "code",
   "execution_count": 5,
   "metadata": {
    "tags": []
   },
   "outputs": [
    {
     "data": {
      "text/html": [
       "<div>\n",
       "<style scoped>\n",
       "    .dataframe tbody tr th:only-of-type {\n",
       "        vertical-align: middle;\n",
       "    }\n",
       "\n",
       "    .dataframe tbody tr th {\n",
       "        vertical-align: top;\n",
       "    }\n",
       "\n",
       "    .dataframe thead th {\n",
       "        text-align: right;\n",
       "    }\n",
       "</style>\n",
       "<table border=\"1\" class=\"dataframe\">\n",
       "  <thead>\n",
       "    <tr style=\"text-align: right;\">\n",
       "      <th></th>\n",
       "      <th>count</th>\n",
       "      <th>unique</th>\n",
       "      <th>top</th>\n",
       "      <th>freq</th>\n",
       "    </tr>\n",
       "  </thead>\n",
       "  <tbody>\n",
       "    <tr>\n",
       "      <th>Name</th>\n",
       "      <td>899150</td>\n",
       "      <td>779583</td>\n",
       "      <td>SUBWAY</td>\n",
       "      <td>1269</td>\n",
       "    </tr>\n",
       "    <tr>\n",
       "      <th>City</th>\n",
       "      <td>899134</td>\n",
       "      <td>32581</td>\n",
       "      <td>LOS ANGELES</td>\n",
       "      <td>11558</td>\n",
       "    </tr>\n",
       "    <tr>\n",
       "      <th>State</th>\n",
       "      <td>899150</td>\n",
       "      <td>51</td>\n",
       "      <td>CA</td>\n",
       "      <td>130619</td>\n",
       "    </tr>\n",
       "    <tr>\n",
       "      <th>Bank</th>\n",
       "      <td>897605</td>\n",
       "      <td>5802</td>\n",
       "      <td>BANK OF AMERICA NATL ASSOC</td>\n",
       "      <td>86853</td>\n",
       "    </tr>\n",
       "    <tr>\n",
       "      <th>BankState</th>\n",
       "      <td>897598</td>\n",
       "      <td>56</td>\n",
       "      <td>CA</td>\n",
       "      <td>118116</td>\n",
       "    </tr>\n",
       "    <tr>\n",
       "      <th>ApprovalDate</th>\n",
       "      <td>899164</td>\n",
       "      <td>9859</td>\n",
       "      <td>7-Jul-93</td>\n",
       "      <td>1131</td>\n",
       "    </tr>\n",
       "    <tr>\n",
       "      <th>ApprovalFY</th>\n",
       "      <td>899164</td>\n",
       "      <td>52</td>\n",
       "      <td>2005</td>\n",
       "      <td>77525</td>\n",
       "    </tr>\n",
       "    <tr>\n",
       "      <th>RevLineCr</th>\n",
       "      <td>894636</td>\n",
       "      <td>18</td>\n",
       "      <td>N</td>\n",
       "      <td>420288</td>\n",
       "    </tr>\n",
       "    <tr>\n",
       "      <th>LowDoc</th>\n",
       "      <td>896582</td>\n",
       "      <td>8</td>\n",
       "      <td>N</td>\n",
       "      <td>782822</td>\n",
       "    </tr>\n",
       "    <tr>\n",
       "      <th>ChgOffDate</th>\n",
       "      <td>162699</td>\n",
       "      <td>6448</td>\n",
       "      <td>13-Mar-10</td>\n",
       "      <td>734</td>\n",
       "    </tr>\n",
       "    <tr>\n",
       "      <th>DisbursementDate</th>\n",
       "      <td>896796</td>\n",
       "      <td>8472</td>\n",
       "      <td>31-Jul-95</td>\n",
       "      <td>10371</td>\n",
       "    </tr>\n",
       "    <tr>\n",
       "      <th>DisbursementGross</th>\n",
       "      <td>899164</td>\n",
       "      <td>118859</td>\n",
       "      <td>$50,000.00</td>\n",
       "      <td>43787</td>\n",
       "    </tr>\n",
       "    <tr>\n",
       "      <th>BalanceGross</th>\n",
       "      <td>899164</td>\n",
       "      <td>15</td>\n",
       "      <td>$0.00</td>\n",
       "      <td>899150</td>\n",
       "    </tr>\n",
       "    <tr>\n",
       "      <th>MIS_Status</th>\n",
       "      <td>897167</td>\n",
       "      <td>2</td>\n",
       "      <td>P I F</td>\n",
       "      <td>739609</td>\n",
       "    </tr>\n",
       "    <tr>\n",
       "      <th>ChgOffPrinGr</th>\n",
       "      <td>899164</td>\n",
       "      <td>83165</td>\n",
       "      <td>$0.00</td>\n",
       "      <td>737152</td>\n",
       "    </tr>\n",
       "    <tr>\n",
       "      <th>GrAppv</th>\n",
       "      <td>899164</td>\n",
       "      <td>22128</td>\n",
       "      <td>$50,000.00</td>\n",
       "      <td>69394</td>\n",
       "    </tr>\n",
       "    <tr>\n",
       "      <th>SBA_Appv</th>\n",
       "      <td>899164</td>\n",
       "      <td>38326</td>\n",
       "      <td>$25,000.00</td>\n",
       "      <td>49579</td>\n",
       "    </tr>\n",
       "  </tbody>\n",
       "</table>\n",
       "</div>"
      ],
      "text/plain": [
       "                    count  unique                         top    freq\n",
       "Name               899150  779583                      SUBWAY    1269\n",
       "City               899134   32581                 LOS ANGELES   11558\n",
       "State              899150      51                          CA  130619\n",
       "Bank               897605    5802  BANK OF AMERICA NATL ASSOC   86853\n",
       "BankState          897598      56                          CA  118116\n",
       "ApprovalDate       899164    9859                    7-Jul-93    1131\n",
       "ApprovalFY         899164      52                        2005   77525\n",
       "RevLineCr          894636      18                           N  420288\n",
       "LowDoc             896582       8                           N  782822\n",
       "ChgOffDate         162699    6448                   13-Mar-10     734\n",
       "DisbursementDate   896796    8472                   31-Jul-95   10371\n",
       "DisbursementGross  899164  118859                 $50,000.00    43787\n",
       "BalanceGross       899164      15                      $0.00   899150\n",
       "MIS_Status         897167       2                       P I F  739609\n",
       "ChgOffPrinGr       899164   83165                      $0.00   737152\n",
       "GrAppv             899164   22128                 $50,000.00    69394\n",
       "SBA_Appv           899164   38326                 $25,000.00    49579"
      ]
     },
     "execution_count": 5,
     "metadata": {},
     "output_type": "execute_result"
    }
   ],
   "source": [
    "raw_data.describe(include='object').T"
   ]
  },
  {
   "cell_type": "code",
   "execution_count": 6,
   "metadata": {
    "tags": []
   },
   "outputs": [
    {
     "data": {
      "text/plain": [
       "<AxesSubplot: >"
      ]
     },
     "execution_count": 6,
     "metadata": {},
     "output_type": "execute_result"
    },
    {
     "data": {
      "image/png": "[encoded data removed]",
      "text/plain": [
       "<Figure size 2500x1000 with 2 Axes>"
      ]
     },
     "metadata": {},
     "output_type": "display_data"
    }
   ],
   "source": [
    "msno.matrix(raw_data, labels=True, sort='descending')"
   ]
  },
  {
   "cell_type": "code",
   "execution_count": 7,
   "metadata": {
    "tags": []
   },
   "outputs": [],
   "source": [
    "def wrangle(df):\n",
    "  # copy\n",
    "  cleaned_df = df.copy(deep = True)\n",
    " \n",
    "  ## Remove symbols\n",
    "  list_s = ['DisbursementGross','GrAppv','SBA_Appv']\n",
    "\n",
    "  for colm in list_s:\n",
    "    cleaned_df[colm] = cleaned_df[colm].str.replace('[$,]', '').astype(float)\n",
    "   \n",
    "       \n",
    "  ## List of unnecessary, inconsistent and leaky variables\n",
    "  list_un = ['LoanNr_ChkDgt','Name','City','State', 'Zip','Bank',\n",
    "              'BankState','NAICS','ApprovalDate','NewExist', 'DisbursementDate',\n",
    "              'ApprovalFY',\"DisbursementGross\", 'FranchiseCode','ChgOffPrinGr','ChgOffDate',\n",
    "              'BalanceGross','RevLineCr','LowDoc','CreateJob','RetainedJob','UrbanRural'\n",
    "              ]\n",
    "    \n",
    "  # Create a Real State variable \n",
    "  list_real = []\n",
    "    \n",
    "  for real in cleaned_df['Term']:\n",
    "    if real >=240:\n",
    "      real = 1\n",
    "    else:\n",
    "      real = 0\n",
    "\n",
    "    list_real.append(real)\n",
    "        \n",
    "  cleaned_df['RealEstate'] = list_real\n",
    "   \n",
    "\n",
    "\n",
    "  # SBA's Guaranteed Portion of Approved Loan\n",
    "  cleaned_df['portion'] = cleaned_df['SBA_Appv']/ cleaned_df['GrAppv']\n",
    "   \n",
    "   \n",
    "  # New target variable\n",
    "  cleaned_df['Default'] = (cleaned_df['MIS_Status'] == 'CHGOFF').astype(int)\n",
    "   \n",
    "  #Remove old target variable\n",
    "  list_un.append('MIS_Status')\n",
    "   \n",
    "  # Drop columns\n",
    "  cleaned_df.drop(columns = list_un, inplace = True)\n",
    "\n",
    "  # drop miss_values\n",
    "  cleaned_df.dropna(inplace = True)\n",
    "     \n",
    "  return cleaned_df\n"
   ]
  },
  {
   "cell_type": "code",
   "execution_count": 23,
   "metadata": {
    "tags": []
   },
   "outputs": [
    {
     "name": "stderr",
     "output_type": "stream",
     "text": [
      "C:\\Users\\mkrtc\\AppData\\Local\\Temp\\ipykernel_20312\\3575424109.py:9: FutureWarning: The default value of regex will change from True to False in a future version.\n",
      "  cleaned_df[colm] = cleaned_df[colm].str.replace('[$,]', '').astype(float)\n"
     ]
    },
    {
     "name": "stdout",
     "output_type": "stream",
     "text": [
      "(899164, 7)\n"
     ]
    }
   ],
   "source": [
    "df_tran = wrangle(raw_data)\n",
    "print(df_tran.shape)"
   ]
  },
  {
   "cell_type": "code",
   "execution_count": 24,
   "metadata": {
    "tags": []
   },
   "outputs": [
    {
     "data": {
      "text/html": [
       "<div>\n",
       "<style scoped>\n",
       "    .dataframe tbody tr th:only-of-type {\n",
       "        vertical-align: middle;\n",
       "    }\n",
       "\n",
       "    .dataframe tbody tr th {\n",
       "        vertical-align: top;\n",
       "    }\n",
       "\n",
       "    .dataframe thead th {\n",
       "        text-align: right;\n",
       "    }\n",
       "</style>\n",
       "<table border=\"1\" class=\"dataframe\">\n",
       "  <thead>\n",
       "    <tr style=\"text-align: right;\">\n",
       "      <th></th>\n",
       "      <th>Term</th>\n",
       "      <th>NoEmp</th>\n",
       "      <th>GrAppv</th>\n",
       "      <th>SBA_Appv</th>\n",
       "      <th>RealEstate</th>\n",
       "      <th>portion</th>\n",
       "      <th>Default</th>\n",
       "    </tr>\n",
       "  </thead>\n",
       "  <tbody>\n",
       "    <tr>\n",
       "      <th>0</th>\n",
       "      <td>84</td>\n",
       "      <td>4</td>\n",
       "      <td>60000.0</td>\n",
       "      <td>48000.0</td>\n",
       "      <td>0</td>\n",
       "      <td>0.80000</td>\n",
       "      <td>0</td>\n",
       "    </tr>\n",
       "    <tr>\n",
       "      <th>1</th>\n",
       "      <td>60</td>\n",
       "      <td>2</td>\n",
       "      <td>40000.0</td>\n",
       "      <td>32000.0</td>\n",
       "      <td>0</td>\n",
       "      <td>0.80000</td>\n",
       "      <td>0</td>\n",
       "    </tr>\n",
       "    <tr>\n",
       "      <th>2</th>\n",
       "      <td>180</td>\n",
       "      <td>7</td>\n",
       "      <td>287000.0</td>\n",
       "      <td>215250.0</td>\n",
       "      <td>0</td>\n",
       "      <td>0.75000</td>\n",
       "      <td>0</td>\n",
       "    </tr>\n",
       "    <tr>\n",
       "      <th>3</th>\n",
       "      <td>60</td>\n",
       "      <td>2</td>\n",
       "      <td>35000.0</td>\n",
       "      <td>28000.0</td>\n",
       "      <td>0</td>\n",
       "      <td>0.80000</td>\n",
       "      <td>0</td>\n",
       "    </tr>\n",
       "    <tr>\n",
       "      <th>4</th>\n",
       "      <td>240</td>\n",
       "      <td>14</td>\n",
       "      <td>229000.0</td>\n",
       "      <td>229000.0</td>\n",
       "      <td>1</td>\n",
       "      <td>1.00000</td>\n",
       "      <td>0</td>\n",
       "    </tr>\n",
       "    <tr>\n",
       "      <th>5</th>\n",
       "      <td>120</td>\n",
       "      <td>19</td>\n",
       "      <td>517000.0</td>\n",
       "      <td>387750.0</td>\n",
       "      <td>0</td>\n",
       "      <td>0.75000</td>\n",
       "      <td>0</td>\n",
       "    </tr>\n",
       "    <tr>\n",
       "      <th>6</th>\n",
       "      <td>45</td>\n",
       "      <td>45</td>\n",
       "      <td>600000.0</td>\n",
       "      <td>499998.0</td>\n",
       "      <td>0</td>\n",
       "      <td>0.83333</td>\n",
       "      <td>1</td>\n",
       "    </tr>\n",
       "    <tr>\n",
       "      <th>7</th>\n",
       "      <td>84</td>\n",
       "      <td>1</td>\n",
       "      <td>45000.0</td>\n",
       "      <td>36000.0</td>\n",
       "      <td>0</td>\n",
       "      <td>0.80000</td>\n",
       "      <td>0</td>\n",
       "    </tr>\n",
       "    <tr>\n",
       "      <th>8</th>\n",
       "      <td>297</td>\n",
       "      <td>2</td>\n",
       "      <td>305000.0</td>\n",
       "      <td>228750.0</td>\n",
       "      <td>1</td>\n",
       "      <td>0.75000</td>\n",
       "      <td>0</td>\n",
       "    </tr>\n",
       "    <tr>\n",
       "      <th>9</th>\n",
       "      <td>84</td>\n",
       "      <td>3</td>\n",
       "      <td>70000.0</td>\n",
       "      <td>56000.0</td>\n",
       "      <td>0</td>\n",
       "      <td>0.80000</td>\n",
       "      <td>0</td>\n",
       "    </tr>\n",
       "  </tbody>\n",
       "</table>\n",
       "</div>"
      ],
      "text/plain": [
       "   Term  NoEmp    GrAppv  SBA_Appv  RealEstate  portion  Default\n",
       "0    84      4   60000.0   48000.0           0  0.80000        0\n",
       "1    60      2   40000.0   32000.0           0  0.80000        0\n",
       "2   180      7  287000.0  215250.0           0  0.75000        0\n",
       "3    60      2   35000.0   28000.0           0  0.80000        0\n",
       "4   240     14  229000.0  229000.0           1  1.00000        0\n",
       "5   120     19  517000.0  387750.0           0  0.75000        0\n",
       "6    45     45  600000.0  499998.0           0  0.83333        1\n",
       "7    84      1   45000.0   36000.0           0  0.80000        0\n",
       "8   297      2  305000.0  228750.0           1  0.75000        0\n",
       "9    84      3   70000.0   56000.0           0  0.80000        0"
      ]
     },
     "execution_count": 24,
     "metadata": {},
     "output_type": "execute_result"
    }
   ],
   "source": [
    "df_tran.head(10)"
   ]
  },
  {
   "cell_type": "code",
   "execution_count": 25,
   "metadata": {
    "tags": []
   },
   "outputs": [
    {
     "data": {
      "text/html": [
       "<div>\n",
       "<style scoped>\n",
       "    .dataframe tbody tr th:only-of-type {\n",
       "        vertical-align: middle;\n",
       "    }\n",
       "\n",
       "    .dataframe tbody tr th {\n",
       "        vertical-align: top;\n",
       "    }\n",
       "\n",
       "    .dataframe thead th {\n",
       "        text-align: right;\n",
       "    }\n",
       "</style>\n",
       "<table border=\"1\" class=\"dataframe\">\n",
       "  <thead>\n",
       "    <tr style=\"text-align: right;\">\n",
       "      <th></th>\n",
       "      <th>Term</th>\n",
       "      <th>NoEmp</th>\n",
       "      <th>GrAppv</th>\n",
       "      <th>SBA_Appv</th>\n",
       "      <th>RealEstate</th>\n",
       "      <th>portion</th>\n",
       "      <th>Default</th>\n",
       "    </tr>\n",
       "  </thead>\n",
       "  <tbody>\n",
       "    <tr>\n",
       "      <th>count</th>\n",
       "      <td>899164.00</td>\n",
       "      <td>899164.00</td>\n",
       "      <td>899164.00</td>\n",
       "      <td>899164.00</td>\n",
       "      <td>899164.00</td>\n",
       "      <td>899164.00</td>\n",
       "      <td>899164.00</td>\n",
       "    </tr>\n",
       "    <tr>\n",
       "      <th>mean</th>\n",
       "      <td>110.77</td>\n",
       "      <td>11.41</td>\n",
       "      <td>192686.98</td>\n",
       "      <td>149488.79</td>\n",
       "      <td>0.17</td>\n",
       "      <td>0.71</td>\n",
       "      <td>0.18</td>\n",
       "    </tr>\n",
       "    <tr>\n",
       "      <th>std</th>\n",
       "      <td>78.86</td>\n",
       "      <td>74.11</td>\n",
       "      <td>283263.39</td>\n",
       "      <td>228414.56</td>\n",
       "      <td>0.37</td>\n",
       "      <td>0.17</td>\n",
       "      <td>0.38</td>\n",
       "    </tr>\n",
       "    <tr>\n",
       "      <th>min</th>\n",
       "      <td>0.00</td>\n",
       "      <td>0.00</td>\n",
       "      <td>200.00</td>\n",
       "      <td>100.00</td>\n",
       "      <td>0.00</td>\n",
       "      <td>0.03</td>\n",
       "      <td>0.00</td>\n",
       "    </tr>\n",
       "    <tr>\n",
       "      <th>25%</th>\n",
       "      <td>60.00</td>\n",
       "      <td>2.00</td>\n",
       "      <td>35000.00</td>\n",
       "      <td>21250.00</td>\n",
       "      <td>0.00</td>\n",
       "      <td>0.50</td>\n",
       "      <td>0.00</td>\n",
       "    </tr>\n",
       "    <tr>\n",
       "      <th>50%</th>\n",
       "      <td>84.00</td>\n",
       "      <td>4.00</td>\n",
       "      <td>90000.00</td>\n",
       "      <td>61250.00</td>\n",
       "      <td>0.00</td>\n",
       "      <td>0.75</td>\n",
       "      <td>0.00</td>\n",
       "    </tr>\n",
       "    <tr>\n",
       "      <th>75%</th>\n",
       "      <td>120.00</td>\n",
       "      <td>10.00</td>\n",
       "      <td>225000.00</td>\n",
       "      <td>175000.00</td>\n",
       "      <td>0.00</td>\n",
       "      <td>0.85</td>\n",
       "      <td>0.00</td>\n",
       "    </tr>\n",
       "    <tr>\n",
       "      <th>max</th>\n",
       "      <td>569.00</td>\n",
       "      <td>9999.00</td>\n",
       "      <td>5472000.00</td>\n",
       "      <td>5472000.00</td>\n",
       "      <td>1.00</td>\n",
       "      <td>1.00</td>\n",
       "      <td>1.00</td>\n",
       "    </tr>\n",
       "  </tbody>\n",
       "</table>\n",
       "</div>"
      ],
      "text/plain": [
       "            Term      NoEmp      GrAppv    SBA_Appv  RealEstate    portion  \\\n",
       "count  899164.00  899164.00   899164.00   899164.00   899164.00  899164.00   \n",
       "mean      110.77      11.41   192686.98   149488.79        0.17       0.71   \n",
       "std        78.86      74.11   283263.39   228414.56        0.37       0.17   \n",
       "min         0.00       0.00      200.00      100.00        0.00       0.03   \n",
       "25%        60.00       2.00    35000.00    21250.00        0.00       0.50   \n",
       "50%        84.00       4.00    90000.00    61250.00        0.00       0.75   \n",
       "75%       120.00      10.00   225000.00   175000.00        0.00       0.85   \n",
       "max       569.00    9999.00  5472000.00  5472000.00        1.00       1.00   \n",
       "\n",
       "         Default  \n",
       "count  899164.00  \n",
       "mean        0.18  \n",
       "std         0.38  \n",
       "min         0.00  \n",
       "25%         0.00  \n",
       "50%         0.00  \n",
       "75%         0.00  \n",
       "max         1.00  "
      ]
     },
     "execution_count": 25,
     "metadata": {},
     "output_type": "execute_result"
    }
   ],
   "source": [
    "df_tran.describe().round(2)"
   ]
  },
  {
   "cell_type": "code",
   "execution_count": 26,
   "metadata": {
    "collapsed": false,
    "jupyter": {
     "outputs_hidden": false
    }
   },
   "outputs": [
    {
     "data": {
      "image/png": "[encoded data removed]",
      "text/plain": [
       "<Figure size 800x600 with 2 Axes>"
      ]
     },
     "metadata": {},
     "output_type": "display_data"
    }
   ],
   "source": [
    "plt.figure(figsize=(8, 6)) # Making it big for easier inspection\n",
    "\n",
    "corr_matrix = df_tran.corr()\n",
    "sns.heatmap(corr_matrix, annot=True)\n",
    "plt.show()"
   ]
  },
  {
   "cell_type": "markdown",
   "metadata": {},
   "source": [
    "### Splitting the data into train and test"
   ]
  },
  {
   "cell_type": "code",
   "execution_count": 30,
   "metadata": {
    "tags": []
   },
   "outputs": [
    {
     "name": "stdout",
     "output_type": "stream",
     "text": [
      "No. of training examples: 719331\n",
      "No. of testing examples: 179833\n",
      "Training data shape:(719331, 7)\n",
      "Testing data shape:(179833, 7)\n"
     ]
    }
   ],
   "source": [
    "training_data = df_tran.sample(frac=0.8, random_state=21)\n",
    "testing_data = df_tran.drop(training_data.index)\n",
    "\n",
    "\n",
    "print(f\"No. of training examples: {training_data.shape[0]}\")\n",
    "print(f\"No. of testing examples: {testing_data.shape[0]}\")\n",
    "print(f\"Training data shape:{training_data.shape}\")\n",
    "print(f\"Testing data shape:{testing_data.shape}\")"
   ]
  },
  {
   "cell_type": "code",
   "execution_count": 31,
   "metadata": {
    "tags": []
   },
   "outputs": [],
   "source": [
    "# Code for scikit-learn based model\n",
    "\n",
    "X = training_data.drop([\"Default\"], axis=1)\n",
    "y = training_data[\"Default\"] # Splitting the training data\n",
    "\n",
    "X_1 = testing_data.drop([\"Default\"], axis=1)\n",
    "y_1 = testing_data[\"Default\"] # Splitting the testing data"
   ]
  },
  {
   "cell_type": "markdown",
   "metadata": {},
   "source": [
    "### Splitting the testing data so we can evaluate on data the model has never seen before"
   ]
  },
  {
   "cell_type": "code",
   "execution_count": 32,
   "metadata": {
    "tags": []
   },
   "outputs": [
    {
     "name": "stdout",
     "output_type": "stream",
     "text": [
      "X_train:  (503531, 6)\n",
      "X_test:  (215800, 6)\n",
      "y_train:  (503531,)\n",
      "y_test:  (215800,)\n"
     ]
    }
   ],
   "source": [
    "X_train, X_test, y_train, y_test = train_test_split(\n",
    "    X,y, test_size=0.3, random_state=21)\n",
    "\n",
    "print(\"X_train: \",X_train.shape)\n",
    "print(\"X_test: \",X_test.shape)\n",
    "print(\"y_train: \",y_train.shape)\n",
    "print(\"y_test: \",y_test.shape)"
   ]
  },
  {
   "cell_type": "code",
   "execution_count": 33,
   "metadata": {
    "tags": []
   },
   "outputs": [
    {
     "name": "stdout",
     "output_type": "stream",
     "text": [
      "X_train_val:  (125883, 6)\n",
      "X_test_val:  (53950, 6)\n",
      "y_train_val:  (125883,)\n",
      "y_test_val:  (53950,)\n"
     ]
    }
   ],
   "source": [
    "X_train_val, X_test_val, y_train_val, y_test_val = train_test_split(\n",
    "    X_1,y_1, test_size=0.3, random_state=21)\n",
    "\n",
    "print(\"X_train_val: \",X_train_val.shape)\n",
    "print(\"X_test_val: \",X_test_val.shape)\n",
    "print(\"y_train_val: \",y_train_val.shape)\n",
    "print(\"y_test_val: \",y_test_val.shape)"
   ]
  },
  {
   "cell_type": "markdown",
   "metadata": {},
   "source": [
    "### Scaling for more effective training"
   ]
  },
  {
   "cell_type": "code",
   "execution_count": 34,
   "metadata": {
    "tags": []
   },
   "outputs": [],
   "source": [
    "# Scaling the data with StandardScaler()\n",
    "\n",
    "sc = StandardScaler()\n",
    "sc.fit(X_train)\n",
    "\n",
    "\n",
    "# Transform (standardise) both X_train and X_test with mean and STD from \n",
    "# training data\n",
    "\n",
    "X_train_sc = sc.transform(X_train)\n",
    "X_test_sc = sc.transform(X_test)\n",
    "\n",
    "X_1_train_sc = sc.transform(X_train_val)\n",
    "X_1_test_sc = sc.transform(X_test_val)"
   ]
  },
  {
   "cell_type": "markdown",
   "metadata": {},
   "source": [
    "### ANN with Keras"
   ]
  },
  {
   "cell_type": "code",
   "execution_count": 15,
   "metadata": {
    "execution": {
     "iopub.execute_input": "2023-01-23T11:40:44.078790Z",
     "iopub.status.busy": "2023-01-23T11:40:44.078319Z",
     "iopub.status.idle": "2023-01-23T11:47:10.177303Z",
     "shell.execute_reply": "2023-01-23T11:47:10.176392Z",
     "shell.execute_reply.started": "2023-01-23T11:40:44.078752Z"
    }
   },
   "outputs": [
    {
     "name": "stderr",
     "output_type": "stream",
     "text": [
      "2023-01-23 11:40:44.235684: I tensorflow/stream_executor/cuda/cuda_gpu_executor.cc:937] successful NUMA node read from SysFS had negative value (-1), but there must be at least one NUMA node, so returning NUMA node zero\n",
      "2023-01-23 11:40:44.236725: I tensorflow/stream_executor/cuda/cuda_gpu_executor.cc:937] successful NUMA node read from SysFS had negative value (-1), but there must be at least one NUMA node, so returning NUMA node zero\n",
      "2023-01-23 11:40:44.371091: I tensorflow/stream_executor/cuda/cuda_gpu_executor.cc:937] successful NUMA node read from SysFS had negative value (-1), but there must be at least one NUMA node, so returning NUMA node zero\n",
      "2023-01-23 11:40:44.372133: I tensorflow/stream_executor/cuda/cuda_gpu_executor.cc:937] successful NUMA node read from SysFS had negative value (-1), but there must be at least one NUMA node, so returning NUMA node zero\n",
      "2023-01-23 11:40:44.373024: I tensorflow/stream_executor/cuda/cuda_gpu_executor.cc:937] successful NUMA node read from SysFS had negative value (-1), but there must be at least one NUMA node, so returning NUMA node zero\n",
      "2023-01-23 11:40:44.373837: I tensorflow/stream_executor/cuda/cuda_gpu_executor.cc:937] successful NUMA node read from SysFS had negative value (-1), but there must be at least one NUMA node, so returning NUMA node zero\n",
      "2023-01-23 11:40:44.376627: I tensorflow/core/platform/cpu_feature_guard.cc:142] This TensorFlow binary is optimized with oneAPI Deep Neural Network Library (oneDNN) to use the following CPU instructions in performance-critical operations:  AVX2 AVX512F FMA\n",
      "To enable them in other operations, rebuild TensorFlow with the appropriate compiler flags.\n",
      "2023-01-23 11:40:44.635310: I tensorflow/stream_executor/cuda/cuda_gpu_executor.cc:937] successful NUMA node read from SysFS had negative value (-1), but there must be at least one NUMA node, so returning NUMA node zero\n",
      "2023-01-23 11:40:44.636263: I tensorflow/stream_executor/cuda/cuda_gpu_executor.cc:937] successful NUMA node read from SysFS had negative value (-1), but there must be at least one NUMA node, so returning NUMA node zero\n",
      "2023-01-23 11:40:44.637071: I tensorflow/stream_executor/cuda/cuda_gpu_executor.cc:937] successful NUMA node read from SysFS had negative value (-1), but there must be at least one NUMA node, so returning NUMA node zero\n",
      "2023-01-23 11:40:44.637842: I tensorflow/stream_executor/cuda/cuda_gpu_executor.cc:937] successful NUMA node read from SysFS had negative value (-1), but there must be at least one NUMA node, so returning NUMA node zero\n",
      "2023-01-23 11:40:44.638610: I tensorflow/stream_executor/cuda/cuda_gpu_executor.cc:937] successful NUMA node read from SysFS had negative value (-1), but there must be at least one NUMA node, so returning NUMA node zero\n",
      "2023-01-23 11:40:44.639370: I tensorflow/stream_executor/cuda/cuda_gpu_executor.cc:937] successful NUMA node read from SysFS had negative value (-1), but there must be at least one NUMA node, so returning NUMA node zero\n",
      "2023-01-23 11:40:47.637475: I tensorflow/stream_executor/cuda/cuda_gpu_executor.cc:937] successful NUMA node read from SysFS had negative value (-1), but there must be at least one NUMA node, so returning NUMA node zero\n",
      "2023-01-23 11:40:47.638345: I tensorflow/stream_executor/cuda/cuda_gpu_executor.cc:937] successful NUMA node read from SysFS had negative value (-1), but there must be at least one NUMA node, so returning NUMA node zero\n",
      "2023-01-23 11:40:47.639205: I tensorflow/stream_executor/cuda/cuda_gpu_executor.cc:937] successful NUMA node read from SysFS had negative value (-1), but there must be at least one NUMA node, so returning NUMA node zero\n",
      "2023-01-23 11:40:47.639977: I tensorflow/stream_executor/cuda/cuda_gpu_executor.cc:937] successful NUMA node read from SysFS had negative value (-1), but there must be at least one NUMA node, so returning NUMA node zero\n",
      "2023-01-23 11:40:47.640733: I tensorflow/stream_executor/cuda/cuda_gpu_executor.cc:937] successful NUMA node read from SysFS had negative value (-1), but there must be at least one NUMA node, so returning NUMA node zero\n",
      "2023-01-23 11:40:47.641402: I tensorflow/core/common_runtime/gpu/gpu_device.cc:1510] Created device /job:localhost/replica:0/task:0/device:GPU:0 with 13789 MB memory:  -> device: 0, name: Tesla T4, pci bus id: 0000:00:04.0, compute capability: 7.5\n",
      "2023-01-23 11:40:47.644822: I tensorflow/stream_executor/cuda/cuda_gpu_executor.cc:937] successful NUMA node read from SysFS had negative value (-1), but there must be at least one NUMA node, so returning NUMA node zero\n",
      "2023-01-23 11:40:47.645591: I tensorflow/core/common_runtime/gpu/gpu_device.cc:1510] Created device /job:localhost/replica:0/task:0/device:GPU:1 with 13789 MB memory:  -> device: 1, name: Tesla T4, pci bus id: 0000:00:05.0, compute capability: 7.5\n",
      "2023-01-23 11:40:48.100620: I tensorflow/compiler/mlir/mlir_graph_optimization_pass.cc:185] None of the MLIR Optimization Passes are enabled (registered 2)\n"
     ]
    },
    {
     "name": "stdout",
     "output_type": "stream",
     "text": [
      "Epoch 1/100\n",
      "1377/1377 [==============================] - 10s 6ms/step - loss: 0.3259 - accuracy: 0.8540 - val_loss: 0.3135 - val_accuracy: 0.8386\n",
      "Epoch 2/100\n",
      "1377/1377 [==============================] - 7s 5ms/step - loss: 0.2845 - accuracy: 0.8728 - val_loss: 0.2705 - val_accuracy: 0.8814\n",
      "Epoch 3/100\n",
      "1377/1377 [==============================] - 8s 6ms/step - loss: 0.2723 - accuracy: 0.8775 - val_loss: 0.2652 - val_accuracy: 0.8807\n",
      "Epoch 4/100\n",
      "1377/1377 [==============================] - 7s 5ms/step - loss: 0.2613 - accuracy: 0.8826 - val_loss: 0.2578 - val_accuracy: 0.8829\n",
      "Epoch 5/100\n",
      "1377/1377 [==============================] - 7s 5ms/step - loss: 0.2573 - accuracy: 0.8837 - val_loss: 0.2490 - val_accuracy: 0.8865\n",
      "Epoch 6/100\n",
      "1377/1377 [==============================] - 8s 6ms/step - loss: 0.2542 - accuracy: 0.8848 - val_loss: 0.2498 - val_accuracy: 0.8864\n",
      "Epoch 7/100\n",
      "1377/1377 [==============================] - 8s 6ms/step - loss: 0.2505 - accuracy: 0.8871 - val_loss: 0.2401 - val_accuracy: 0.8932\n",
      "Epoch 8/100\n",
      "1377/1377 [==============================] - 7s 5ms/step - loss: 0.2474 - accuracy: 0.8895 - val_loss: 0.2431 - val_accuracy: 0.8939\n",
      "Epoch 9/100\n",
      "1377/1377 [==============================] - 7s 5ms/step - loss: 0.2436 - accuracy: 0.8918 - val_loss: 0.2366 - val_accuracy: 0.8967\n",
      "Epoch 10/100\n",
      "1377/1377 [==============================] - 7s 5ms/step - loss: 0.2402 - accuracy: 0.8945 - val_loss: 0.2301 - val_accuracy: 0.9000\n",
      "Epoch 11/100\n",
      "1377/1377 [==============================] - 8s 6ms/step - loss: 0.2368 - accuracy: 0.8973 - val_loss: 0.2319 - val_accuracy: 0.8969\n",
      "Epoch 12/100\n",
      "1377/1377 [==============================] - 7s 5ms/step - loss: 0.2335 - accuracy: 0.8998 - val_loss: 0.2345 - val_accuracy: 0.8971\n",
      "Epoch 13/100\n",
      "1377/1377 [==============================] - 7s 5ms/step - loss: 0.2307 - accuracy: 0.9025 - val_loss: 0.2231 - val_accuracy: 0.9074\n",
      "Epoch 14/100\n",
      "1377/1377 [==============================] - 7s 5ms/step - loss: 0.2293 - accuracy: 0.9045 - val_loss: 0.2175 - val_accuracy: 0.9118\n",
      "Epoch 15/100\n",
      "1377/1377 [==============================] - 8s 6ms/step - loss: 0.2272 - accuracy: 0.9066 - val_loss: 0.2165 - val_accuracy: 0.9142\n",
      "Epoch 16/100\n",
      "1377/1377 [==============================] - 7s 5ms/step - loss: 0.2247 - accuracy: 0.9072 - val_loss: 0.2161 - val_accuracy: 0.9132\n",
      "Epoch 17/100\n",
      "1377/1377 [==============================] - 7s 5ms/step - loss: 0.2229 - accuracy: 0.9089 - val_loss: 0.2156 - val_accuracy: 0.9143\n",
      "Epoch 18/100\n",
      "1377/1377 [==============================] - 7s 5ms/step - loss: 0.2202 - accuracy: 0.9102 - val_loss: 0.2240 - val_accuracy: 0.9098\n",
      "Epoch 19/100\n",
      "1377/1377 [==============================] - 7s 5ms/step - loss: 0.2167 - accuracy: 0.9122 - val_loss: 0.2050 - val_accuracy: 0.9205\n",
      "Epoch 20/100\n",
      "1377/1377 [==============================] - 8s 5ms/step - loss: 0.2158 - accuracy: 0.9129 - val_loss: 0.2066 - val_accuracy: 0.9167\n",
      "Epoch 21/100\n",
      "1377/1377 [==============================] - 7s 5ms/step - loss: 0.2140 - accuracy: 0.9142 - val_loss: 0.2073 - val_accuracy: 0.9198\n",
      "Epoch 22/100\n",
      "1377/1377 [==============================] - 7s 5ms/step - loss: 0.2131 - accuracy: 0.9145 - val_loss: 0.2104 - val_accuracy: 0.9165\n",
      "Epoch 23/100\n",
      "1377/1377 [==============================] - 7s 5ms/step - loss: 0.2119 - accuracy: 0.9158 - val_loss: 0.2045 - val_accuracy: 0.9211\n",
      "Epoch 24/100\n",
      "1377/1377 [==============================] - 8s 6ms/step - loss: 0.2117 - accuracy: 0.9156 - val_loss: 0.2063 - val_accuracy: 0.9210\n",
      "Epoch 25/100\n",
      "1377/1377 [==============================] - 7s 5ms/step - loss: 0.2120 - accuracy: 0.9154 - val_loss: 0.2015 - val_accuracy: 0.9231\n",
      "Epoch 26/100\n",
      "1377/1377 [==============================] - 7s 5ms/step - loss: 0.2113 - accuracy: 0.9163 - val_loss: 0.2160 - val_accuracy: 0.9155\n",
      "Epoch 27/100\n",
      "1377/1377 [==============================] - 7s 5ms/step - loss: 0.2100 - accuracy: 0.9166 - val_loss: 0.2059 - val_accuracy: 0.9199\n",
      "Epoch 28/100\n",
      "1377/1377 [==============================] - 7s 5ms/step - loss: 0.2091 - accuracy: 0.9169 - val_loss: 0.1999 - val_accuracy: 0.9236\n",
      "Epoch 29/100\n",
      "1377/1377 [==============================] - 7s 5ms/step - loss: 0.2079 - accuracy: 0.9182 - val_loss: 0.2218 - val_accuracy: 0.9081\n",
      "Epoch 30/100\n",
      "1377/1377 [==============================] - 7s 5ms/step - loss: 0.2069 - accuracy: 0.9184 - val_loss: 0.1979 - val_accuracy: 0.9250\n",
      "Epoch 31/100\n",
      "1377/1377 [==============================] - 7s 5ms/step - loss: 0.2084 - accuracy: 0.9178 - val_loss: 0.2115 - val_accuracy: 0.9148\n",
      "Epoch 32/100\n",
      "1377/1377 [==============================] - 7s 5ms/step - loss: 0.2062 - accuracy: 0.9189 - val_loss: 0.2047 - val_accuracy: 0.9190\n",
      "Epoch 33/100\n",
      "1377/1377 [==============================] - 8s 6ms/step - loss: 0.2075 - accuracy: 0.9184 - val_loss: 0.1961 - val_accuracy: 0.9254\n",
      "Epoch 34/100\n",
      "1377/1377 [==============================] - 7s 5ms/step - loss: 0.2051 - accuracy: 0.9202 - val_loss: 0.2017 - val_accuracy: 0.9244\n",
      "Epoch 35/100\n",
      "1377/1377 [==============================] - 7s 5ms/step - loss: 0.2047 - accuracy: 0.9198 - val_loss: 0.2011 - val_accuracy: 0.9231\n",
      "Epoch 36/100\n",
      "1377/1377 [==============================] - 7s 5ms/step - loss: 0.2048 - accuracy: 0.9200 - val_loss: 0.1963 - val_accuracy: 0.9232\n",
      "Epoch 37/100\n",
      "1377/1377 [==============================] - 8s 6ms/step - loss: 0.2034 - accuracy: 0.9208 - val_loss: 0.2030 - val_accuracy: 0.9201\n",
      "Epoch 38/100\n",
      "1377/1377 [==============================] - 7s 5ms/step - loss: 0.2034 - accuracy: 0.9206 - val_loss: 0.1974 - val_accuracy: 0.9254\n",
      "Epoch 39/100\n",
      "1377/1377 [==============================] - 7s 5ms/step - loss: 0.2031 - accuracy: 0.9210 - val_loss: 0.1942 - val_accuracy: 0.9267\n",
      "Epoch 40/100\n",
      "1377/1377 [==============================] - 7s 5ms/step - loss: 0.2034 - accuracy: 0.9203 - val_loss: 0.1973 - val_accuracy: 0.9250\n",
      "Epoch 41/100\n",
      "1377/1377 [==============================] - 7s 5ms/step - loss: 0.2022 - accuracy: 0.9212 - val_loss: 0.2018 - val_accuracy: 0.9207\n",
      "Epoch 42/100\n",
      "1377/1377 [==============================] - 8s 6ms/step - loss: 0.2007 - accuracy: 0.9223 - val_loss: 0.1964 - val_accuracy: 0.9247\n",
      "Epoch 43/100\n",
      "1377/1377 [==============================] - 7s 5ms/step - loss: 0.2002 - accuracy: 0.9224 - val_loss: 0.2037 - val_accuracy: 0.9212\n",
      "Epoch 44/100\n",
      "1377/1377 [==============================] - 7s 5ms/step - loss: 0.2009 - accuracy: 0.9223 - val_loss: 0.1953 - val_accuracy: 0.9260\n",
      "Epoch 45/100\n",
      "1377/1377 [==============================] - 7s 5ms/step - loss: 0.2001 - accuracy: 0.9229 - val_loss: 0.1966 - val_accuracy: 0.9250\n",
      "Epoch 46/100\n",
      "1377/1377 [==============================] - 8s 6ms/step - loss: 0.1999 - accuracy: 0.9226 - val_loss: 0.1937 - val_accuracy: 0.9265\n",
      "Epoch 47/100\n",
      "1377/1377 [==============================] - 7s 5ms/step - loss: 0.1987 - accuracy: 0.9232 - val_loss: 0.1931 - val_accuracy: 0.9257\n",
      "Epoch 48/100\n",
      "1377/1377 [==============================] - 7s 5ms/step - loss: 0.2003 - accuracy: 0.9224 - val_loss: 0.1944 - val_accuracy: 0.9268\n",
      "Epoch 49/100\n",
      "1377/1377 [==============================] - 7s 5ms/step - loss: 0.2002 - accuracy: 0.9228 - val_loss: 0.2011 - val_accuracy: 0.9207\n",
      "Epoch 50/100\n",
      "1377/1377 [==============================] - 7s 5ms/step - loss: 0.2002 - accuracy: 0.9222 - val_loss: 0.1937 - val_accuracy: 0.9273\n",
      "Epoch 51/100\n",
      "1377/1377 [==============================] - 7s 5ms/step - loss: 0.1991 - accuracy: 0.9228 - val_loss: 0.1959 - val_accuracy: 0.9255\n",
      "Epoch 52/100\n",
      "1377/1377 [==============================] - 7s 5ms/step - loss: 0.1993 - accuracy: 0.9229 - val_loss: 0.1943 - val_accuracy: 0.9264\n"
     ]
    },
    {
     "data": {
      "text/plain": [
       "<keras.callbacks.History at 0x7fe3235a3c90>"
      ]
     },
     "execution_count": 15,
     "metadata": {},
     "output_type": "execute_result"
    }
   ],
   "source": [
    "# Code for creating and training a ANN with Keras\n",
    "\n",
    "model = models.Sequential([\n",
    "    layers.Dense(1024, activation =\"PReLU\"),\n",
    "    layers.Dense(512, activation =\"PReLU\"),\n",
    "    layers.Dropout(0.1),\n",
    "    layers.Dense(256, activation =\"PReLU\"),\n",
    "    layers.Dropout(0.1),\n",
    "    layers.Dense(128, activation = \"PReLU\"),\n",
    "    layers.Dense(64, activation = \"PReLU\"),\n",
    "    layers.Dense(1, activation = \"sigmoid\")])\n",
    "\n",
    "# Compile model\n",
    "model.compile(optimizer=Adam(learning_rate=0.0005),\n",
    "              loss='binary_crossentropy',\n",
    "              metrics=['accuracy'])\n",
    "\n",
    "callback = EarlyStopping(monitor='loss', patience=5)\n",
    "\n",
    "# Fit model (in the same manner as you would with scikit-learn)\n",
    "model.fit(X_train_sc, \n",
    "          y_train,\n",
    "          epochs=100,\n",
    "          callbacks=callback,\n",
    "          batch_size=256,\n",
    "          validation_split=0.3)\n"
   ]
  },
  {
   "cell_type": "code",
   "execution_count": 20,
   "metadata": {
    "execution": {
     "iopub.execute_input": "2023-01-23T11:47:35.666328Z",
     "iopub.status.busy": "2023-01-23T11:47:35.665306Z",
     "iopub.status.idle": "2023-01-23T11:47:35.675947Z",
     "shell.execute_reply": "2023-01-23T11:47:35.674905Z",
     "shell.execute_reply.started": "2023-01-23T11:47:35.666288Z"
    }
   },
   "outputs": [
    {
     "name": "stdout",
     "output_type": "stream",
     "text": [
      "Model: \"sequential\"\n",
      "_________________________________________________________________\n",
      "Layer (type)                 Output Shape              Param #   \n",
      "=================================================================\n",
      "dense (Dense)                (None, 1024)              8192      \n",
      "_________________________________________________________________\n",
      "dense_1 (Dense)              (None, 512)               525312    \n",
      "_________________________________________________________________\n",
      "dropout (Dropout)            (None, 512)               0         \n",
      "_________________________________________________________________\n",
      "dense_2 (Dense)              (None, 256)               131584    \n",
      "_________________________________________________________________\n",
      "dropout_1 (Dropout)          (None, 256)               0         \n",
      "_________________________________________________________________\n",
      "dense_3 (Dense)              (None, 128)               33024     \n",
      "_________________________________________________________________\n",
      "dense_4 (Dense)              (None, 64)                8320      \n",
      "_________________________________________________________________\n",
      "dense_5 (Dense)              (None, 1)                 65        \n",
      "=================================================================\n",
      "Total params: 706,497\n",
      "Trainable params: 706,497\n",
      "Non-trainable params: 0\n",
      "_________________________________________________________________\n"
     ]
    }
   ],
   "source": [
    "model.summary()"
   ]
  },
  {
   "cell_type": "markdown",
   "metadata": {},
   "source": [
    "### Saving our best model to not train it every time"
   ]
  },
  {
   "cell_type": "code",
   "execution_count": 22,
   "metadata": {
    "execution": {
     "iopub.execute_input": "2023-01-23T11:48:07.910266Z",
     "iopub.status.busy": "2023-01-23T11:48:07.909658Z",
     "iopub.status.idle": "2023-01-23T11:48:07.975952Z",
     "shell.execute_reply": "2023-01-23T11:48:07.974834Z",
     "shell.execute_reply.started": "2023-01-23T11:48:07.910223Z"
    }
   },
   "outputs": [],
   "source": [
    "model.save(\"tin100-ann-model.h5\") # Saving to a h5 file"
   ]
  },
  {
   "cell_type": "code",
   "execution_count": 35,
   "metadata": {
    "tags": []
   },
   "outputs": [],
   "source": [
    "ann = models.load_model(\"tin100-ann-model.h5\")"
   ]
  },
  {
   "cell_type": "code",
   "execution_count": 36,
   "metadata": {
    "tags": []
   },
   "outputs": [
    {
     "name": "stdout",
     "output_type": "stream",
     "text": [
      "1686/1686 [==============================] - 9s 3ms/step - loss: 0.1960 - accuracy: 0.9253\n"
     ]
    },
    {
     "data": {
      "text/plain": [
       "[0.19601669907569885, 0.9252826571464539]"
      ]
     },
     "execution_count": 36,
     "metadata": {},
     "output_type": "execute_result"
    }
   ],
   "source": [
    "ann.evaluate(X_1_test_sc, y_test_val)"
   ]
  },
  {
   "cell_type": "markdown",
   "metadata": {},
   "source": [
    "### As seen above, our ANN model has an accuracy of about 92.6%"
   ]
  },
  {
   "cell_type": "code",
   "execution_count": 38,
   "metadata": {},
   "outputs": [
    {
     "name": "stdout",
     "output_type": "stream",
     "text": [
      "1686/1686 [==============================] - 3s 2ms/step\n"
     ]
    },
    {
     "data": {
      "image/png": "[encoded data removed]",
      "text/plain": [
       "<Figure size 500x500 with 1 Axes>"
      ]
     },
     "metadata": {},
     "output_type": "display_data"
    }
   ],
   "source": [
    "y_pred = ann.predict(X_1_test_sc)\n",
    "y_pred = np.round(y_pred)\n",
    "y_pred = y_pred.ravel()\n",
    "y_test = y_test.ravel()\n",
    "\n",
    " \n",
    "\n",
    "confmat = confusion_matrix(y_true=y_test_val, y_pred=y_pred)\n",
    "fig, ax = plt.subplots(figsize=(5, 5))\n",
    "ax.matshow(confmat, cmap=plt.cm.Blues, alpha=0.3)\n",
    "for i in range(confmat.shape[0]):\n",
    "    for j in range(confmat.shape[1]):\n",
    "        ax.text(x=j, y=i, s=confmat[i, j], va='center', ha='center')\n",
    "plt.xlabel('Predicted label')\n",
    "plt.ylabel('True label')\n",
    "plt.show()"
   ]
  },
  {
   "cell_type": "code",
   "execution_count": null,
   "metadata": {},
   "outputs": [],
   "source": []
  }
 ],
 "metadata": {
  "kernelspec": {
   "display_name": "Python 3 (ipykernel)",
   "language": "python",
   "name": "python3"
  },
  "language_info": {
   "codemirror_mode": {
    "name": "ipython",
    "version": 3
   },
   "file_extension": ".py",
   "mimetype": "text/x-python",
   "name": "python",
   "nbconvert_exporter": "python",
   "pygments_lexer": "ipython3",
   "version": "3.9.15"
  }
 },
 "nbformat": 4,
 "nbformat_minor": 4
}
